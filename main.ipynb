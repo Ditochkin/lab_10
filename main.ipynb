{
 "cells": [
  {
   "cell_type": "code",
   "execution_count": 1,
   "id": "ec791453",
   "metadata": {
    "scrolled": false
   },
   "outputs": [],
   "source": [
    "import os\n",
    "import numpy as np\n",
    "import cv2 as cv\n",
    "import pickle\n",
    "from sklearn.cluster import KMeans\n",
    "import pandas as pd\n",
    "import sys"
   ]
  },
  {
   "cell_type": "code",
   "execution_count": 2,
   "id": "be78ad80",
   "metadata": {},
   "outputs": [],
   "source": [
    "datasetPath = \"coco128\\\\images\\\\train2017\\\\\"\n",
    "data = os.listdir(datasetPath) "
   ]
  },
  {
   "cell_type": "code",
   "execution_count": 3,
   "id": "49e4ab7a",
   "metadata": {},
   "outputs": [
    {
     "data": {
      "text/plain": [
       "352"
      ]
     },
     "execution_count": 3,
     "metadata": {},
     "output_type": "execute_result"
    }
   ],
   "source": [
    "len(data)"
   ]
  },
  {
   "cell_type": "code",
   "execution_count": 4,
   "id": "f5a27204",
   "metadata": {},
   "outputs": [],
   "source": [
    "def makeDesc(imagePath):\n",
    "    sift = cv.SIFT_create()\n",
    "    \n",
    "    img = cv.imread(imagePath)\n",
    "    imgGray= cv.cvtColor(img,cv.COLOR_BGR2GRAY)\n",
    "    point, desc = sift.detectAndCompute(imgGray,None)\n",
    "    \n",
    "    return desc"
   ]
  },
  {
   "cell_type": "code",
   "execution_count": 5,
   "id": "be7a206d",
   "metadata": {},
   "outputs": [],
   "source": [
    "descs = np.empty([0, 128])\n",
    "\n",
    "for nameFile in data:\n",
    "    totalImagePath = datasetPath + nameFile\n",
    "    descs = np.concatenate((descs,makeDesc(totalImagePath)))"
   ]
  },
  {
   "cell_type": "code",
   "execution_count": 6,
   "id": "e878e9c3",
   "metadata": {},
   "outputs": [
    {
     "data": {
      "text/plain": [
       "(378452, 128)"
      ]
     },
     "execution_count": 6,
     "metadata": {},
     "output_type": "execute_result"
    }
   ],
   "source": [
    "descs.shape"
   ]
  },
  {
   "cell_type": "code",
   "execution_count": 65,
   "id": "0e3798f9",
   "metadata": {},
   "outputs": [
    {
     "data": {
      "text/html": [
       "<style>#sk-container-id-1 {color: black;background-color: white;}#sk-container-id-1 pre{padding: 0;}#sk-container-id-1 div.sk-toggleable {background-color: white;}#sk-container-id-1 label.sk-toggleable__label {cursor: pointer;display: block;width: 100%;margin-bottom: 0;padding: 0.3em;box-sizing: border-box;text-align: center;}#sk-container-id-1 label.sk-toggleable__label-arrow:before {content: \"▸\";float: left;margin-right: 0.25em;color: #696969;}#sk-container-id-1 label.sk-toggleable__label-arrow:hover:before {color: black;}#sk-container-id-1 div.sk-estimator:hover label.sk-toggleable__label-arrow:before {color: black;}#sk-container-id-1 div.sk-toggleable__content {max-height: 0;max-width: 0;overflow: hidden;text-align: left;background-color: #f0f8ff;}#sk-container-id-1 div.sk-toggleable__content pre {margin: 0.2em;color: black;border-radius: 0.25em;background-color: #f0f8ff;}#sk-container-id-1 input.sk-toggleable__control:checked~div.sk-toggleable__content {max-height: 200px;max-width: 100%;overflow: auto;}#sk-container-id-1 input.sk-toggleable__control:checked~label.sk-toggleable__label-arrow:before {content: \"▾\";}#sk-container-id-1 div.sk-estimator input.sk-toggleable__control:checked~label.sk-toggleable__label {background-color: #d4ebff;}#sk-container-id-1 div.sk-label input.sk-toggleable__control:checked~label.sk-toggleable__label {background-color: #d4ebff;}#sk-container-id-1 input.sk-hidden--visually {border: 0;clip: rect(1px 1px 1px 1px);clip: rect(1px, 1px, 1px, 1px);height: 1px;margin: -1px;overflow: hidden;padding: 0;position: absolute;width: 1px;}#sk-container-id-1 div.sk-estimator {font-family: monospace;background-color: #f0f8ff;border: 1px dotted black;border-radius: 0.25em;box-sizing: border-box;margin-bottom: 0.5em;}#sk-container-id-1 div.sk-estimator:hover {background-color: #d4ebff;}#sk-container-id-1 div.sk-parallel-item::after {content: \"\";width: 100%;border-bottom: 1px solid gray;flex-grow: 1;}#sk-container-id-1 div.sk-label:hover label.sk-toggleable__label {background-color: #d4ebff;}#sk-container-id-1 div.sk-serial::before {content: \"\";position: absolute;border-left: 1px solid gray;box-sizing: border-box;top: 0;bottom: 0;left: 50%;z-index: 0;}#sk-container-id-1 div.sk-serial {display: flex;flex-direction: column;align-items: center;background-color: white;padding-right: 0.2em;padding-left: 0.2em;position: relative;}#sk-container-id-1 div.sk-item {position: relative;z-index: 1;}#sk-container-id-1 div.sk-parallel {display: flex;align-items: stretch;justify-content: center;background-color: white;position: relative;}#sk-container-id-1 div.sk-item::before, #sk-container-id-1 div.sk-parallel-item::before {content: \"\";position: absolute;border-left: 1px solid gray;box-sizing: border-box;top: 0;bottom: 0;left: 50%;z-index: -1;}#sk-container-id-1 div.sk-parallel-item {display: flex;flex-direction: column;z-index: 1;position: relative;background-color: white;}#sk-container-id-1 div.sk-parallel-item:first-child::after {align-self: flex-end;width: 50%;}#sk-container-id-1 div.sk-parallel-item:last-child::after {align-self: flex-start;width: 50%;}#sk-container-id-1 div.sk-parallel-item:only-child::after {width: 0;}#sk-container-id-1 div.sk-dashed-wrapped {border: 1px dashed gray;margin: 0 0.4em 0.5em 0.4em;box-sizing: border-box;padding-bottom: 0.4em;background-color: white;}#sk-container-id-1 div.sk-label label {font-family: monospace;font-weight: bold;display: inline-block;line-height: 1.2em;}#sk-container-id-1 div.sk-label-container {text-align: center;}#sk-container-id-1 div.sk-container {/* jupyter's `normalize.less` sets `[hidden] { display: none; }` but bootstrap.min.css set `[hidden] { display: none !important; }` so we also need the `!important` here to be able to override the default hidden behavior on the sphinx rendered scikit-learn.org. See: https://github.com/scikit-learn/scikit-learn/issues/21755 */display: inline-block !important;position: relative;}#sk-container-id-1 div.sk-text-repr-fallback {display: none;}</style><div id=\"sk-container-id-1\" class=\"sk-top-container\"><div class=\"sk-text-repr-fallback\"><pre>KMeans(n_clusters=1024)</pre><b>In a Jupyter environment, please rerun this cell to show the HTML representation or trust the notebook. <br />On GitHub, the HTML representation is unable to render, please try loading this page with nbviewer.org.</b></div><div class=\"sk-container\" hidden><div class=\"sk-item\"><div class=\"sk-estimator sk-toggleable\"><input class=\"sk-toggleable__control sk-hidden--visually\" id=\"sk-estimator-id-1\" type=\"checkbox\" checked><label for=\"sk-estimator-id-1\" class=\"sk-toggleable__label sk-toggleable__label-arrow\">KMeans</label><div class=\"sk-toggleable__content\"><pre>KMeans(n_clusters=1024)</pre></div></div></div></div></div>"
      ],
      "text/plain": [
       "KMeans(n_clusters=1024)"
      ]
     },
     "execution_count": 65,
     "metadata": {},
     "output_type": "execute_result"
    }
   ],
   "source": [
    "k_means = KMeans(n_clusters=1024)\n",
    "k_means.fit(descs)"
   ]
  },
  {
   "cell_type": "code",
   "execution_count": 7,
   "id": "f8767f49",
   "metadata": {},
   "outputs": [],
   "source": [
    "sift = cv.SIFT_create()\n",
    "\n",
    "def makeHist(imagePath):\n",
    "    img = cv.imread(imagePath)\n",
    "    \n",
    "    if(img is not None):\n",
    "        grayImg= cv.cvtColor(img,cv.COLOR_BGR2GRAY)\n",
    "        pkeys, descs = sift.detectAndCompute(grayImg,None)\n",
    "        \n",
    "        if len(pkeys) == 0:\n",
    "            return np.array([])\n",
    "        \n",
    "        kmeansPredict = k_means.predict(descs.astype(float))\n",
    "        hist = np.histogram(kmeansPredict, bins=1024)[0]\n",
    "        return hist / np.linalg.norm(hist)\n",
    "    \n",
    "    else:\n",
    "        return []"
   ]
  },
  {
   "cell_type": "code",
   "execution_count": 8,
   "id": "46885548",
   "metadata": {},
   "outputs": [],
   "source": [
    "datasetPath2 = \"VOCdevkit\\\\VOC2012\\\\JPEGImages\"\n",
    "data2 = os.listdir(datasetPath2) "
   ]
  },
  {
   "cell_type": "code",
   "execution_count": null,
   "id": "072ba3c3",
   "metadata": {},
   "outputs": [],
   "source": [
    "idImg = 0\n",
    "totalData = []\n",
    "\n",
    "for nameFile in data2: \n",
    "    totalImagePath = datasetPath2 + \"\\\\\" + nameFile\n",
    "    hist = makeHist(totalImagePath)\n",
    "    \n",
    "    if len(vec) == 0:\n",
    "        print(path)\n",
    "        continue\n",
    "        \n",
    "    row = {\"id\": idImg, \"path\":totalImagePath, \"vector\":hist}\n",
    "    idImg+=1\n",
    "    \n",
    "    totalData.append(row)"
   ]
  },
  {
   "cell_type": "code",
   "execution_count": 38,
   "id": "542125d1",
   "metadata": {},
   "outputs": [],
   "source": [
    "df = pd.DataFrame(totalData)"
   ]
  },
  {
   "cell_type": "code",
   "execution_count": 39,
   "id": "810740ea",
   "metadata": {},
   "outputs": [],
   "source": [
    "np.set_printoptions(threshold=sys.maxsize)\n",
    "df.to_csv(\"data.csv\", index=False, float_format='%:.17f', sep=',')"
   ]
  },
  {
   "cell_type": "code",
   "execution_count": 40,
   "id": "48c8d383",
   "metadata": {},
   "outputs": [],
   "source": [
    "with open(\"k_means.pkl\", \"wb\") as f:\n",
    "    pickle.dump(k_means, f)"
   ]
  }
 ],
 "metadata": {
  "kernelspec": {
   "display_name": "Python 3 (ipykernel)",
   "language": "python",
   "name": "python3"
  },
  "language_info": {
   "codemirror_mode": {
    "name": "ipython",
    "version": 3
   },
   "file_extension": ".py",
   "mimetype": "text/x-python",
   "name": "python",
   "nbconvert_exporter": "python",
   "pygments_lexer": "ipython3",
   "version": "3.10.7"
  }
 },
 "nbformat": 4,
 "nbformat_minor": 5
}
